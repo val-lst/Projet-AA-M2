{
 "cells": [
  {
   "cell_type": "code",
   "execution_count": null,
   "metadata": {},
   "outputs": [],
   "source": [
    "from sklearn.neighbors import NearestNeighbors\n",
    "import numpy as np\n",
    "import pandas as pa\n",
    "import json as js\n",
    "from math import radians, cos, sin, asin, sqrt"
   ]
  },
  {
   "cell_type": "code",
   "execution_count": null,
   "metadata": {},
   "outputs": [],
   "source": [
    "file = open('export.json',)\n",
    "data = js.load(file)\n",
    "elements = data[\"elements\"]\n",
    "file.close()"
   ]
  },
  {
   "cell_type": "code",
   "execution_count": null,
   "metadata": {},
   "outputs": [],
   "source": [
    "def haversine(point1, point2):\n",
    "    point1[0], point1[1], point2[0], point2[1] = map(radians, [point1[0], point1[1], point2[0], point2[1]])\n",
    "\n",
    "    # haversine formula \n",
    "    dlon = point2[0] - point1[0] \n",
    "    dlat = point2[1] - point1[1] \n",
    "    a = sin(dlat/2)**2 + cos(point1[1]) * cos(point2[1]) * sin(dlon/2)**2\n",
    "    c = 2 * asin(sqrt(a)) \n",
    "    r = 6371 # Radius of earth in kilometers. Use 3956 for miles. Determines return value units.\n",
    "    return c * r"
   ]
  },
  {
   "cell_type": "code",
   "execution_count": null,
   "metadata": {},
   "outputs": [],
   "source": [
    "lat1 = radians(elements[0][\"lat\"])\n",
    "lon1 = radians(elements[0][\"lon\"])\n",
    "\n",
    "lat2 = radians(elements[1][\"lat\"])\n",
    "lon2 = radians(elements[1][\"lon\"])\n",
    "\n",
    "print(haversine([lon1,lat1],[lon2,lat2]))"
   ]
  },
  {
   "cell_type": "code",
   "execution_count": null,
   "metadata": {},
   "outputs": [],
   "source": [
    "#regroupe les coordonnées en couple\n",
    "pairs = {}\n",
    "for e in elements:\n",
    "    if (e[\"type\"] == \"node\"):\n",
    "        point = [e[\"lat\"],e[\"lon\"]]\n",
    "        # ajout dans le dictionnaire\n",
    "        pairs.update({e[\"id\"] : point})"
   ]
  },
  {
   "cell_type": "code",
   "execution_count": null,
   "metadata": {},
   "outputs": [],
   "source": [
    "# créer un dictionnaire regroupant les coordonées des sations services/aires\n",
    "points = {}\n",
    "for e in elements:\n",
    "    if (e[\"type\"] == \"way\"):\n",
    "        points.update({e[\"id\"] : pairs[e[\"nodes\"][0]]})\n",
    "\n",
    "print(points[116545534])\n",
    "\n",
    "print(haversine(points.get(116545534),points.get(475295233)))"
   ]
  }
 ],
 "metadata": {
  "language_info": {
   "name": "python"
  },
  "orig_nbformat": 4
 },
 "nbformat": 4,
 "nbformat_minor": 2
}
