{
 "cells": [
  {
   "cell_type": "code",
   "execution_count": 47,
   "metadata": {},
   "outputs": [],
   "source": [
    "#from sklearn.neighbors import NearestNeighbors\n",
    "import numpy as np\n",
    "import plotly.express as px\n",
    "import plotly.graph_objects as go\n",
    "import pandas as pa\n",
    "import json as js\n",
    "import networkx as nx\n",
    "import matplotlib.pyplot as plt\n",
    "from math import radians, cos, sin, asin, sqrt"
   ]
  },
  {
   "cell_type": "code",
   "execution_count": 48,
   "metadata": {},
   "outputs": [],
   "source": [
    "file = open('export.json',)\n",
    "data = js.load(file)\n",
    "elements = data[\"elements\"]\n",
    "file.close()"
   ]
  },
  {
   "cell_type": "code",
   "execution_count": 49,
   "metadata": {},
   "outputs": [],
   "source": [
    "def haversine(point1, point2):\n",
    "    point1[0], point1[1], point2[0], point2[1] = map(radians, [point1[0], point1[1], point2[0], point2[1]])\n",
    "\n",
    "    # haversine formula \n",
    "    dlon = point2[0] - point1[0] \n",
    "    dlat = point2[1] - point1[1] \n",
    "    a = sin(dlat/2)**2 + cos(point1[1]) * cos(point2[1]) * sin(dlon/2)**2\n",
    "    c = 2 * asin(sqrt(a)) \n",
    "    r = 6371 # Radius of earth in kilometers. Use 3956 for miles. Determines return value units.\n",
    "    return c * r"
   ]
  },
  {
   "cell_type": "code",
   "execution_count": 50,
   "metadata": {},
   "outputs": [
    {
     "name": "stdout",
     "output_type": "stream",
     "text": [
      "21462872 Aire de Meillac\n",
      "21463090 Aire de Bordeaux-Cestas\n",
      "36133148 Aire de Cocumont\n",
      "101439017 Aire de Lugos-Est\n",
      "244598847 Aire d'Aquitaine Nord\n",
      "245469652 Aire de Thouars\n",
      "245469945 Aire de Thouars\n",
      "249778863 Aire des Vignes Nord\n",
      "255725311 Aire de Saugon\n",
      "257156240 Aire des PalombiÃ¨res\n",
      "313750636 Aire de la Gare de PÃ©age d'Arveyres\n",
      "313753580 Aire des PalombiÃ¨res\n",
      "315104278 Aire des Vignes Sud\n",
      "315104887 Aire de la Gare de PÃ©age d'Arveyres\n",
      "318151675 Aire des Terres de Graves\n",
      "318182389 Aire des Terres de Graves\n",
      "458755211 Aire de Cocumont\n",
      "513717312 Aire de Bordeaux-Cestas\n",
      "726554853 Aire de l'Estalot\n",
      "736942879 Aire de Lugos-Ouest\n",
      "778654326 Aire du Bazadais\n",
      "987039211 Aire du Bazadais\n",
      "1091814886 Aire de BÃ©denac Ouest\n",
      "1876595132 Aire de Saint-Caprais\n",
      "1893894292 Aire de CÃ©zac\n",
      "2587088569 Aire de Boisredon\n",
      "5761204260 Aire de Saugon\n",
      "[44.2812476, -0.2325377, 0]\n"
     ]
    }
   ],
   "source": [
    "#regroupe les coordonnées en couple\n",
    "nodesMap = {}\n",
    "for e in elements:\n",
    "    if (e[\"type\"] == \"node\"):\n",
    "        if(\"tags\" in e):\n",
    "            if(\"name\" in e[\"tags\"]):\n",
    "                if(e[\"tags\"][\"name\"].startswith(\"Aire\")):\n",
    "                    print(e[\"id\"],e[\"tags\"][\"name\"])\n",
    "                    point = [e[\"lat\"],e[\"lon\"],1]\n",
    "                else:\n",
    "                    point = [e[\"lat\"],e[\"lon\"],0]\n",
    "            else:\n",
    "                point = [e[\"lat\"],e[\"lon\"],0]\n",
    "\n",
    "        else:\n",
    "            point = [e[\"lat\"],e[\"lon\"],0]\n",
    "        # ajout dans le dictionnaire\n",
    "        nodesMap.update({e[\"id\"] : point})\n",
    "\n",
    "print(nodesMap[1092718161])\n"
   ]
  },
  {
   "cell_type": "code",
   "execution_count": 51,
   "metadata": {},
   "outputs": [
    {
     "name": "stdout",
     "output_type": "stream",
     "text": [
      "[1693220385, 5895826612]\n"
     ]
    }
   ],
   "source": [
    "# parcourir les types \"way\"\n",
    "# noSimpleGraph : {idNode : {\n",
    "#        nextNodes : [node1,node2,...],\n",
    "#        prevNodes : [node1,node2,...]\n",
    "#}}\n",
    "# \n",
    "noSimpleGraph = {}\n",
    "\n",
    "def updateGraph(idNode,nextNode,prevNode):\n",
    "    \n",
    "    if nextNode != None:\n",
    "        noSimpleGraph[idNode][\"nextNodes\"].append(nextNode)\n",
    "    if prevNode != None:\n",
    "        noSimpleGraph[idNode][\"prevNodes\"].append(prevNode)\n",
    "\n",
    "\n",
    "for nodes in elements:\n",
    "    if (nodes[\"type\"] == \"way\"):\n",
    "        for i in range(len(nodes[\"nodes\"])):\n",
    "            idNode = nodes[\"nodes\"][i] \n",
    "\n",
    "            if idNode not in noSimpleGraph:\n",
    "                noSimpleGraph.update({idNode : {\"nextNodes\" :[],\n",
    "                                       \"prevNodes\" : []}})\n",
    "\n",
    "            if i == 0:\n",
    "               updateGraph(idNode,nodes[\"nodes\"][i+1],None)\n",
    "\n",
    "            elif i == (len(nodes[\"nodes\"])-1):\n",
    "                updateGraph(idNode,None,nodes[\"nodes\"][i-1])\n",
    "            else:\n",
    "                updateGraph(idNode,nodes[\"nodes\"][i+1],nodes[\"nodes\"][i-1])\n",
    "            \n",
    "#print(noSimpleGraph)\n",
    "\n",
    "print(noSimpleGraph[29557670][\"nextNodes\"])\n"
   ]
  },
  {
   "cell_type": "code",
   "execution_count": 56,
   "metadata": {},
   "outputs": [
    {
     "ename": "TypeError",
     "evalue": "unhashable type: 'list'",
     "output_type": "error",
     "traceback": [
      "\u001b[1;31m---------------------------------------------------------------------------\u001b[0m",
      "\u001b[1;31mTypeError\u001b[0m                                 Traceback (most recent call last)",
      "\u001b[1;32mc:\\Users\\vlous\\Desktop\\Cours\\Master\\M2\\AA\\Projet-AA-M2\\requests2.ipynb Cell 6\u001b[0m line \u001b[0;36m1\n\u001b[0;32m     <a href='vscode-notebook-cell:/c%3A/Users/vlous/Desktop/Cours/Master/M2/AA/Projet-AA-M2/requests2.ipynb#X24sZmlsZQ%3D%3D?line=9'>10</a>\u001b[0m         dist \u001b[39m=\u001b[39m dist \u001b[39m+\u001b[39m haversine([nodesMap[aireDep][\u001b[39m0\u001b[39m],nodesMap[aireDep][\u001b[39m1\u001b[39m]],[nodesMap[voisin][\u001b[39m0\u001b[39m],nodesMap[voisin][\u001b[39m1\u001b[39m]])\n\u001b[0;32m     <a href='vscode-notebook-cell:/c%3A/Users/vlous/Desktop/Cours/Master/M2/AA/Projet-AA-M2/requests2.ipynb#X24sZmlsZQ%3D%3D?line=10'>11</a>\u001b[0m         \u001b[39mreturn\u001b[39;00m distanceAvecProchaineAire(voisin,dist)\n\u001b[1;32m---> <a href='vscode-notebook-cell:/c%3A/Users/vlous/Desktop/Cours/Master/M2/AA/Projet-AA-M2/requests2.ipynb#X24sZmlsZQ%3D%3D?line=12'>13</a>\u001b[0m dist \u001b[39m=\u001b[39m distanceAvecProchaineAire(\u001b[39m1449891170\u001b[39;49m,\u001b[39m0\u001b[39;49m)\n\u001b[0;32m     <a href='vscode-notebook-cell:/c%3A/Users/vlous/Desktop/Cours/Master/M2/AA/Projet-AA-M2/requests2.ipynb#X24sZmlsZQ%3D%3D?line=13'>14</a>\u001b[0m \u001b[39mprint\u001b[39m(dist)\n",
      "\u001b[1;32mc:\\Users\\vlous\\Desktop\\Cours\\Master\\M2\\AA\\Projet-AA-M2\\requests2.ipynb Cell 6\u001b[0m line \u001b[0;36m3\n\u001b[0;32m      <a href='vscode-notebook-cell:/c%3A/Users/vlous/Desktop/Cours/Master/M2/AA/Projet-AA-M2/requests2.ipynb#X24sZmlsZQ%3D%3D?line=0'>1</a>\u001b[0m \u001b[39mdef\u001b[39;00m \u001b[39mdistanceAvecProchaineAire\u001b[39m(aireDep,dist):\n\u001b[0;32m      <a href='vscode-notebook-cell:/c%3A/Users/vlous/Desktop/Cours/Master/M2/AA/Projet-AA-M2/requests2.ipynb#X24sZmlsZQ%3D%3D?line=1'>2</a>\u001b[0m     voisins \u001b[39m=\u001b[39m noSimpleGraph[aireDep][\u001b[39m\"\u001b[39m\u001b[39mnextNodes\u001b[39m\u001b[39m\"\u001b[39m]\n\u001b[1;32m----> <a href='vscode-notebook-cell:/c%3A/Users/vlous/Desktop/Cours/Master/M2/AA/Projet-AA-M2/requests2.ipynb#X24sZmlsZQ%3D%3D?line=2'>3</a>\u001b[0m     \u001b[39mprint\u001b[39m(nodesMap[voisins])\n\u001b[0;32m      <a href='vscode-notebook-cell:/c%3A/Users/vlous/Desktop/Cours/Master/M2/AA/Projet-AA-M2/requests2.ipynb#X24sZmlsZQ%3D%3D?line=3'>4</a>\u001b[0m     \u001b[39mfor\u001b[39;00m voisin \u001b[39min\u001b[39;00m voisins:\n\u001b[0;32m      <a href='vscode-notebook-cell:/c%3A/Users/vlous/Desktop/Cours/Master/M2/AA/Projet-AA-M2/requests2.ipynb#X24sZmlsZQ%3D%3D?line=4'>5</a>\u001b[0m         \u001b[39mif\u001b[39;00m voisin \u001b[39mis\u001b[39;00m \u001b[39mNone\u001b[39;00m :\n\u001b[0;32m      <a href='vscode-notebook-cell:/c%3A/Users/vlous/Desktop/Cours/Master/M2/AA/Projet-AA-M2/requests2.ipynb#X24sZmlsZQ%3D%3D?line=5'>6</a>\u001b[0m             \u001b[39m#print(\"error : no more Node\")\u001b[39;00m\n",
      "\u001b[1;31mTypeError\u001b[0m: unhashable type: 'list'"
     ]
    }
   ],
   "source": [
    "def distanceAvecProchaineAire(aireDep,dist):\n",
    "    voisins = noSimpleGraph[aireDep][\"nextNodes\"]\n",
    "    print(nodesMap[voisins])\n",
    "    for voisin in voisins:\n",
    "        if voisin is None :\n",
    "            #print(\"error : no more Node\")\n",
    "            return 0,None\n",
    "        if(nodesMap[voisin][2] == 1):\n",
    "            return dist,voisin\n",
    "        dist = dist + haversine([nodesMap[aireDep][0],nodesMap[aireDep][1]],[nodesMap[voisin][0],nodesMap[voisin][1]])\n",
    "        return distanceAvecProchaineAire(voisin,dist)\n",
    "\n",
    "dist = distanceAvecProchaineAire(1449891170,0)\n",
    "print(dist)"
   ]
  },
  {
   "cell_type": "code",
   "execution_count": 58,
   "metadata": {},
   "outputs": [
    {
     "name": "stdout",
     "output_type": "stream",
     "text": [
      "Chemin initialisé au noeud 9576155790.\n",
      "La station 21462872 se trouve sur le chemin.\n",
      "Noeud 7509397404 atteint, chemin parcouru.\n"
     ]
    }
   ],
   "source": [
    "def stationsOnWay(graph, way, stations):\n",
    "    visited = set() # Créez un ensemble pour stocker les nœuds visités\n",
    "    stack = [way[0]] # Créez une pile pour stocker les nœuds à visiter\n",
    "    print(f\"Chemin initialisé au noeud {way[0]}.\") # Affichez le nœud de départ\n",
    "\n",
    "    while stack: # Tant que la pile n'est pas vide\n",
    "            current_node = stack.pop()  # Nœud en haut de la pile\n",
    "            visited.add(current_node)  # Marquer le nœud comme visité\n",
    "\n",
    "            # Vérifier si le nœud courant est dans la liste des stations\n",
    "            if current_node in stations:\n",
    "                print(f\"La station {current_node} se trouve sur le chemin.\")\n",
    "\n",
    "            # Si le nœud courant est le nœud de fin, recherche terminée\n",
    "            if current_node == way[1]:\n",
    "                print(f\"Noeud {way[1]} atteint, chemin parcouru.\")\n",
    "                break\n",
    "\n",
    "            # Ajouter les nœuds voisins non visités à la pile\n",
    "            for next_node in graph[current_node]['nextNodes']:\n",
    "                if next_node not in visited:\n",
    "                    stack.append(next_node)\n",
    "\n",
    "\n",
    "graph = noSimpleGraph\n",
    "way = [9576155790, 7509397404]\n",
    "stations = [node_id for node_id, data in nodesMap.items() if data[2] == 1]\n",
    "\n",
    "stationsOnWay(graph, way, stations)\n",
    "\n"
   ]
  }
 ],
 "metadata": {
  "kernelspec": {
   "display_name": "Python 3",
   "language": "python",
   "name": "python3"
  },
  "language_info": {
   "codemirror_mode": {
    "name": "ipython",
    "version": 3
   },
   "file_extension": ".py",
   "mimetype": "text/x-python",
   "name": "python",
   "nbconvert_exporter": "python",
   "pygments_lexer": "ipython3",
   "version": "3.11.2"
  }
 },
 "nbformat": 4,
 "nbformat_minor": 2
}
